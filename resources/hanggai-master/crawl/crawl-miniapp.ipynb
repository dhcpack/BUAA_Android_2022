{
 "cells": [
  {
   "cell_type": "code",
   "execution_count": 1,
   "metadata": {},
   "outputs": [
    {
     "ename": "ModuleNotFoundError",
     "evalue": "No module named 'pyautogui'",
     "output_type": "error",
     "traceback": [
      "\u001b[1;31m---------------------------------------------------------------------------\u001b[0m",
      "\u001b[1;31mModuleNotFoundError\u001b[0m                       Traceback (most recent call last)",
      "\u001b[1;32mc:\\Users\\ylhappy\\Desktop\\hanggai-master\\crawl\\crawl-miniapp.ipynb Cell 1\u001b[0m in \u001b[0;36m<cell line: 1>\u001b[1;34m()\u001b[0m\n\u001b[1;32m----> <a href='vscode-notebook-cell:/c%3A/Users/ylhappy/Desktop/hanggai-master/crawl/crawl-miniapp.ipynb#W0sZmlsZQ%3D%3D?line=0'>1</a>\u001b[0m \u001b[39mimport\u001b[39;00m \u001b[39mpyautogui\u001b[39;00m \u001b[39mas\u001b[39;00m \u001b[39mpag\u001b[39;00m\n\u001b[0;32m      <a href='vscode-notebook-cell:/c%3A/Users/ylhappy/Desktop/hanggai-master/crawl/crawl-miniapp.ipynb#W0sZmlsZQ%3D%3D?line=1'>2</a>\u001b[0m \u001b[39mfrom\u001b[39;00m \u001b[39mpyperclip\u001b[39;00m \u001b[39mimport\u001b[39;00m copy, paste\n\u001b[0;32m      <a href='vscode-notebook-cell:/c%3A/Users/ylhappy/Desktop/hanggai-master/crawl/crawl-miniapp.ipynb#W0sZmlsZQ%3D%3D?line=2'>3</a>\u001b[0m \u001b[39mfrom\u001b[39;00m \u001b[39mPIL\u001b[39;00m \u001b[39mimport\u001b[39;00m ImageGrab\n",
      "\u001b[1;31mModuleNotFoundError\u001b[0m: No module named 'pyautogui'"
     ]
    }
   ],
   "source": [
    "import pyautogui as pag\n",
    "from pyperclip import copy, paste\n",
    "from PIL import ImageGrab\n",
    "from time import sleep\n",
    "from more_itertools import windowed\n",
    "from codecs import open\n",
    "import json"
   ]
  },
  {
   "cell_type": "code",
   "execution_count": null,
   "metadata": {},
   "outputs": [],
   "source": [
    "def screenshot(): return ImageGrab.grab().load()\n",
    "def 复制(): return pag.click(393, 663)\n",
    "def 下一题(): return pag.click(661, 1358)\n",
    "\n",
    "\n",
    "def 题目() -> str:\n",
    "    pag.click(98, 97, 3, 0.2)\n",
    "    pag.hotkey('ctrl', 'c')\n",
    "    return paste()\n",
    "\n",
    "\n",
    "def 长按(x, y, sec):\n",
    "    pag.mouseDown(x, y)\n",
    "    sleep(sec)\n",
    "    pag.mouseUp()\n",
    "\n",
    "\n",
    "def get_comments(im, is_hot: bool):\n",
    "    背景颜色 = (244, 244, 244)\n",
    "    hr颜色 = (238, 238, 238)\n",
    "    评论x中值 = 192 if is_hot else 588\n",
    "    (hr左x, hr右x) = (90, 327) if is_hot else (438, 727)\n",
    "    ymin, ymax = 417, 1308\n",
    "    版块名 = \"热门\" if is_hot else \"评论\"\n",
    "\n",
    "    comments = []\n",
    "    hr_ys = []\n",
    "    c244count = 0\n",
    "\n",
    "    for y in range(ymin, ymax):\n",
    "        第一个像素的颜色 = im[hr左x, y]\n",
    "        # print(\"y=\", y, end=\" // \")\n",
    "        for x in range(hr左x + 1, hr右x):\n",
    "            if im[x, y] != 第一个像素的颜色:\n",
    "                # print(f\"curr {im[x, y]}, prev {第一个像素的颜色}\")\n",
    "                break\n",
    "        else:\n",
    "            # print(第一个像素的颜色)\n",
    "            if 第一个像素的颜色 == 背景颜色:\n",
    "                if c244count >= 10 and y > 475:  # 没了\n",
    "                    hr_ys.append(y - 10)\n",
    "                    break\n",
    "                c244count += 1\n",
    "                continue\n",
    "            c244count = 0\n",
    "            if 第一个像素的颜色 == hr颜色:\n",
    "                hr_ys.append(y)\n",
    "    print(版块名 + \"分割线的 y 值:\", hr_ys)\n",
    "\n",
    "    hr数量 = len(hr_ys)\n",
    "    if is_hot:\n",
    "        if hr数量 <= 2:\n",
    "            print(f\"本题无热门。\")\n",
    "            return []\n",
    "        hr_ys.pop(0)\n",
    "    else:\n",
    "        if hr数量 < 2:\n",
    "            print(f\"本题无评论。\")\n",
    "            return []\n",
    "\n",
    "    for a, b in windowed(hr_ys, 2):\n",
    "        长按(评论x中值, (a + b)/2 - 2, 1)\n",
    "        sleep(.04)\n",
    "        复制()\n",
    "        comments.append(paste())\n",
    "        sleep(.2)\n",
    "    return comments\n"
   ]
  },
  {
   "cell_type": "code",
   "execution_count": null,
   "metadata": {},
   "outputs": [],
   "source": [
    "data = {}\n",
    "for i in range(1, 972 + 1): # 972\n",
    "    sleep(2)\n",
    "    print(f\"==== 第 {i} 题 ====\")\n",
    "    im = screenshot()\n",
    "    data[i] = {\n",
    "        \"title\": 题目(),\n",
    "        \"hots\": get_comments(im, is_hot=True),\n",
    "        \"comments\": get_comments(im, is_hot=False),\n",
    "    }\n",
    "    print(data[i])\n",
    "    if i % 20 == 0:\n",
    "        print(\"休息一下…\")\n",
    "        sleep(8)\n",
    "    if i % 100 == 0:\n",
    "        with open(f'data_2_{i}.json', 'w', encoding='utf-8') as file:\n",
    "            json.dump(data, file, indent=2, ensure_ascii=False)\n",
    "        print(\"数据已储存。\")\n",
    "    下一题()\n",
    "\n",
    "with open(f'data_2_fin.json', 'w', encoding='utf-8') as file:\n",
    "    json.dump(data, file, indent=2, ensure_ascii=False)\n",
    "print(\"数据已储存。\")"
   ]
  },
  {
   "cell_type": "code",
   "execution_count": null,
   "metadata": {},
   "outputs": [
    {
     "name": "stdout",
     "output_type": "stream",
     "text": [
      "第 30 题数据 @沐春薰：F-22不是第五代嘛 重复！上一次出现也是在本题中！\n",
      "第 120 题数据 @💤：我是#@ 重复！上一次出现也是在本题中！\n",
      "第 183 题数据 @而已：wnm 重复！上一次出现也是在本题中！\n",
      "第 183 题数据 @而已：wnm 重复！上一次出现也是在本题中！\n",
      "第 280 题数据 @九：哈哈哈哈 重复！上一次出现也是在本题中！\n",
      "第 565 题数据 @Sarkastik：光速，很快啊 重复！上一次出现也是在本题中！\n",
      "第 565 题数据 @Chromium：那一刻我变成了光 重复！上一次出现也是在本题中！\n",
      "第 626 题数据 @📖：无人机地面控制站那题全选 重复！上一次出现也是在本题中！\n",
      "第 641 题数据 @包咂：我姐受不了 重复！上一次出现也是在本题中！\n",
      "第 704 题数据 @aking：雷达制导方式：主动、被动、半主动 重复！上一次出现也是在本题中！\n",
      "第 909 题数据 @克里斯缇娜：百分之五十，选后一半的答案 重复！上一次出现也是在本题中！\n",
      "第 911 题数据 @B.T.Y.记得要打卡：军理警告 重复！上一次出现也是在本题中！\n",
      "第 926 题数据 @涅槃：D是Sr-71，只有3.3Ma，达不到高超音速，所以不选；而C是高超音速构型，完毕。 重复！上一次出现也是在本题中！\n"
     ]
    }
   ],
   "source": [
    "cs = {}\n",
    "for q in data:\n",
    "    for x in data[q][\"comments\"]:\n",
    "        if x in cs and cs[x][0] == (q):\n",
    "            print(f\"第 {q} 题数据 {x} 重复！上一次出现也是在本题中！\")\n",
    "        else:\n",
    "            cs[x] = (q, \"c\")\n",
    "    for x in data[q][\"hots\"]:\n",
    "        if x in cs and cs[x] == (q, \"hot\"):\n",
    "            print(f\"第 {q} 题数据 {x} 重复！上一次出现也是在本题中！\")\n",
    "        else:\n",
    "            cs[x] = (q, \"hot\")"
   ]
  },
  {
   "cell_type": "code",
   "execution_count": null,
   "metadata": {},
   "outputs": [],
   "source": [
    "for q in data:\n",
    "    h = set(data[q]['hots'])\n",
    "    for c in data[q]['comments']:\n",
    "        if c in h and len(data[q]['comments']) == 1:\n",
    "            print(f\"第 {q} 题重复：{data[q]['comments']}\")\n",
    "            data[q]['comments'] = []"
   ]
  },
  {
   "cell_type": "code",
   "execution_count": null,
   "metadata": {},
   "outputs": [],
   "source": [
    "for q in data:\n",
    "    h = set(data[q]['hots'])\n",
    "    if len(data[q]['comments']) == 0: continue\n",
    "    c = data[q]['comments'][0]\n",
    "    if c in h:\n",
    "        print(f\"第 {q} 题重复：{data[q]['comments']}\")"
   ]
  },
  {
   "cell_type": "code",
   "execution_count": null,
   "metadata": {},
   "outputs": [
    {
     "name": "stdout",
     "output_type": "stream",
     "text": [
      "数据已储存。\n"
     ]
    }
   ],
   "source": [
    "with open(f'data_2_fin.json', 'w', encoding='utf-8') as file:\n",
    "    json.dump(data, file, indent=2, ensure_ascii=False)\n",
    "print(\"数据已储存。\")"
   ]
  },
  {
   "cell_type": "code",
   "execution_count": null,
   "metadata": {},
   "outputs": [],
   "source": []
  }
 ],
 "metadata": {
  "kernelspec": {
   "display_name": "Python 3.8.10 64-bit",
   "language": "python",
   "name": "python3"
  },
  "language_info": {
   "codemirror_mode": {
    "name": "ipython",
    "version": 3
   },
   "file_extension": ".py",
   "mimetype": "text/x-python",
   "name": "python",
   "nbconvert_exporter": "python",
   "pygments_lexer": "ipython3",
   "version": "3.8.10"
  },
  "orig_nbformat": 4,
  "vscode": {
   "interpreter": {
    "hash": "c2e1980a14167f2fff667ff8aa2fe09bc26ddd090068a3ff7e54c1e0e3f3dc2d"
   }
  }
 },
 "nbformat": 4,
 "nbformat_minor": 2
}
